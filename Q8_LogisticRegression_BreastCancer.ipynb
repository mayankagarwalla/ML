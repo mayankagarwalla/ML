{
 "cells": [
  {
   "cell_type": "code",
   "execution_count": 15,
   "id": "ce1e7038",
   "metadata": {},
   "outputs": [
    {
     "data": {
      "image/png": "[encoded data removed]",
      "text/plain": [
       "<Figure size 432x288 with 1 Axes>"
      ]
     },
     "metadata": {
      "needs_background": "light"
     },
     "output_type": "display_data"
    },
    {
     "name": "stdout",
     "output_type": "stream",
     "text": [
      "Confusion matrix:\n",
      "Predicted  0.0  1.0\n",
      "Actual             \n",
      "0           59    4\n",
      "1            3  105\n",
      "Sensitivity: 0.9722222222222222\n",
      "Specificity: 0.9365079365079365\n"
     ]
    }
   ],
   "source": [
    "import numpy as np\n",
    "import pandas as pd\n",
    "import matplotlib.pyplot as plt\n",
    "from sklearn.datasets import load_breast_cancer\n",
    "from sklearn.model_selection import train_test_split\n",
    "\n",
    "# Load the breast cancer dataset\n",
    "data = load_breast_cancer()\n",
    "\n",
    "# Divide the dataset into training and testing sets\n",
    "X_train, X_test, y_train, y_test = train_test_split(data.data, data.target, test_size=0.3, random_state=0)\n",
    "\n",
    "# Normalize the data\n",
    "mean = X_train.mean(axis=0)\n",
    "std = X_train.std(axis=0)\n",
    "X_train = (X_train - mean) / std\n",
    "X_test = (X_test - mean) / std\n",
    "\n",
    "# Add a bias term to the input features\n",
    "X_train = np.c_[np.ones(X_train.shape[0]), X_train]\n",
    "X_test = np.c_[np.ones(X_test.shape[0]), X_test]\n",
    "\n",
    "# Define the logistic function\n",
    "def sigmoid(z):\n",
    "    return 1 / (1 + np.exp(-z))\n",
    "\n",
    "# Define the cost function\n",
    "def cost_function(X, y, theta):\n",
    "    m = len(y)\n",
    "    h = sigmoid(X.dot(theta))\n",
    "    J = (-1/m) * np.sum(y*np.log(h) + (1-y)*np.log(1-h))\n",
    "    grad = (1/m) * X.T.dot(h-y)\n",
    "    return J, grad\n",
    "\n",
    "# Define the gradient descent function\n",
    "def gradient_descent(X, y, theta, alpha, num_iterations):\n",
    "    m = len(y)\n",
    "    J_history = []\n",
    "    accuracy_train_history = []\n",
    "    accuracy_test_history = []\n",
    "    for i in range(num_iterations):\n",
    "        J, grad = cost_function(X, y, theta)\n",
    "        theta = theta - alpha * grad\n",
    "        J_history.append(J)\n",
    "        accuracy_train = np.mean((sigmoid(X_train.dot(theta)) > 0.5) == y_train)\n",
    "        accuracy_test = np.mean((sigmoid(X_test.dot(theta)) > 0.5) == y_test)\n",
    "        accuracy_train_history.append(accuracy_train)\n",
    "        accuracy_test_history.append(accuracy_test)\n",
    "    return theta, J_history, accuracy_train_history, accuracy_test_history\n",
    "\n",
    "# Initialize the parameter vector\n",
    "theta = np.zeros(X_train.shape[1])\n",
    "\n",
    "# Set the learning rate and number of iterations\n",
    "alpha = 0.01\n",
    "num_iterations = 1000\n",
    "\n",
    "# Run gradient descent to optimize the parameter vector\n",
    "theta, J_history, accuracy_train_history, accuracy_test_history = gradient_descent(X_train, y_train, theta, alpha, num_iterations)\n",
    "\n",
    "# Plot the learning curve\n",
    "fig, ax = plt.subplots()\n",
    "ax.plot(range(num_iterations), accuracy_train_history, label='Training accuracy')\n",
    "ax.plot(range(num_iterations), accuracy_test_history, label='Testing accuracy')\n",
    "ax.set_xlabel('Iteration number')\n",
    "ax.set_ylabel('Accuracy')\n",
    "ax.set_title('Learning curve')\n",
    "ax.legend()\n",
    "plt.show()\n",
    "\n",
    "# Evaluate the model on the testing set\n",
    "y_pred = sigmoid(X_test.dot(theta))\n",
    "y_pred_binary = np.round(y_pred)\n",
    "confusion_matrix = pd.crosstab(y_test, y_pred_binary, rownames=['Actual'], colnames=['Predicted'])\n",
    "print('Confusion matrix:')\n",
    "print(confusion_matrix)\n",
    "tn, fp, fn, tp = confusion_matrix.values.ravel()\n",
    "sensitivity = tp / (tp + fn)\n",
    "specificity = tn / (tn + fp)\n",
    "print('Sensitivity:', sensitivity)\n",
    "print('Specificity:', specificity)\n"
   ]
  },
  {
   "cell_type": "code",
   "execution_count": null,
   "id": "72a02a9f",
   "metadata": {},
   "outputs": [],
   "source": []
  }
 ],
 "metadata": {
  "kernelspec": {
   "display_name": "Python 3 (ipykernel)",
   "language": "python",
   "name": "python3"
  },
  "language_info": {
   "codemirror_mode": {
    "name": "ipython",
    "version": 3
   },
   "file_extension": ".py",
   "mimetype": "text/x-python",
   "name": "python",
   "nbconvert_exporter": "python",
   "pygments_lexer": "ipython3",
   "version": "3.9.12"
  }
 },
 "nbformat": 4,
 "nbformat_minor": 5
}
