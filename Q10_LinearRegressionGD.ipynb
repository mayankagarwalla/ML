{
 "cells": [
  {
   "cell_type": "code",
   "execution_count": 17,
   "id": "ab73dc87",
   "metadata": {},
   "outputs": [],
   "source": [
    "import numpy as np\n",
    "class LR_GD:\n",
    "    def __init__(self):\n",
    "        self.coeff=[0,0]\n",
    "    \n",
    "    def fit(self,x,y,epochs,lr):\n",
    "        m = x.shape[0]     #no of samples\n",
    "        for i in range(epochs):\n",
    "            h = x*self.coeff[1] + self.coeff[0]  #hypothesis fucntion\n",
    "            error = h - y\n",
    "            cost = sum(error*error)/(2*m)\n",
    "            temp_coeff = self.coeff[1] - (lr/m)*sum(error*x)\n",
    "            temp_b = self.coeff[0] - (lr/m)*sum(error)\n",
    "            self.coeff[1] = temp_coeff\n",
    "            self.coeff[0] = temp_b\n",
    "    \n",
    "    def predict(self,x):\n",
    "        y = self.coeff[0] + self.coeff[1]*x\n",
    "        return y\n",
    "    \n",
    "    def RSS(self,y,y_pred):\n",
    "        error=y-y_pred\n",
    "        rss=sum(error*error)        \n",
    "        return rss\n",
    "    \n",
    "    def TSS(self,y):\n",
    "        error=y-y.mean()\n",
    "        tss=sum(error*error)\n",
    "        \n",
    "        return rss\n",
    "    \n",
    "    def R2(self,rss,tss): \n",
    "        r2=1-(rss/tss)\n",
    "        return r2\n",
    "    \n",
    "    def MSE(self,rss,y):\n",
    "        mse=rss/len(y)\n",
    "        return mse"
   ]
  },
  {
   "cell_type": "code",
   "execution_count": 16,
   "id": "ebb1637b",
   "metadata": {},
   "outputs": [
    {
     "name": "stdout",
     "output_type": "stream",
     "text": [
      "Number of Passengers when temp is 46 is 185.77284473800063\n"
     ]
    }
   ],
   "source": [
    "X = [42,37,30,50,43,47,46]\n",
    "Y = [173,149,123,201,175,188,186]\n",
    "x = np.array(X)\n",
    "y = np.array(Y)\n",
    "model = LR_GD()\n",
    "model.fit(x,y,30,0.001)\n",
    "y_pred = model.predict(46)\n",
    "print(\"Number of Passengers when temp is 46 is {}\".format(y_pred))"
   ]
  },
  {
   "cell_type": "code",
   "execution_count": 8,
   "id": "b31f1f6e",
   "metadata": {},
   "outputs": [
    {
     "name": "stdout",
     "output_type": "stream",
     "text": [
      "m:  4.036421855683573\n",
      "b:  0.09743937655628325\n"
     ]
    }
   ],
   "source": [
    "print('m: ', model.coeff[1])\n",
    "print('b: ',model.coeff[0])"
   ]
  },
  {
   "cell_type": "markdown",
   "id": "3a759dcf",
   "metadata": {},
   "source": [
    "### other way"
   ]
  },
  {
   "cell_type": "code",
   "execution_count": 16,
   "id": "5ddf6ee3",
   "metadata": {},
   "outputs": [],
   "source": [
    "import numpy as np\n",
    "\n",
    "class LinearRegressionGD:\n",
    "    def __init__(self, lr=0.01, n_iters=1000):\n",
    "        self.lr = lr\n",
    "        self.n_iters = n_iters\n",
    "        self.weights = None\n",
    "        self.bias = None\n",
    "\n",
    "    def fit(self, X, y):\n",
    "        n_samples, n_features = X.shape\n",
    "\n",
    "        # initialize weights and bias to zeros\n",
    "        self.weights = np.zeros(n_features)\n",
    "        self.bias = 0\n",
    "\n",
    "        # gradient descent\n",
    "        for _ in range(self.n_iters):\n",
    "            y_pred = np.dot(X, self.weights) + self.bias\n",
    "            dw = (1 / n_samples) * np.dot(X.T, (y_pred - y))\n",
    "            db = (1 / n_samples) * np.sum(y_pred - y)\n",
    "\n",
    "            # update weights and bias\n",
    "            self.weights -= self.lr * dw\n",
    "            self.bias -= self.lr * db\n",
    "\n",
    "    def predict(self, X):\n",
    "        return np.dot(X, self.weights) + self.bias\n",
    "\n",
    "    def mse(self, X, y):\n",
    "        y_pred = self.predict(X)\n",
    "        return np.mean((y - y_pred) ** 2)\n"
   ]
  },
  {
   "cell_type": "code",
   "execution_count": 17,
   "id": "c5d118f0",
   "metadata": {},
   "outputs": [],
   "source": [
    "from sklearn.datasets import fetch_california_housing\n",
    "from sklearn.model_selection import train_test_split\n",
    "import pandas as pd\n",
    "\n",
    "# load the data\n",
    "data = fetch_california_housing()\n",
    "\n",
    "# convert to pandas dataframe and normalize\n",
    "X = pd.DataFrame(data.data, columns=data.feature_names)\n",
    "y = data.target\n",
    "X = (X - X.mean()) / X.std()\n",
    "\n",
    "# split into training and testing sets\n",
    "X_train, X_test, y_train, y_test = train_test_split(X, y, test_size=0.3, random_state=42)\n"
   ]
  },
  {
   "cell_type": "code",
   "execution_count": 18,
   "id": "63bfbc79",
   "metadata": {},
   "outputs": [],
   "source": [
    "# create model and fit to training data\n",
    "lr = LinearRegressionGD(lr=0.1, n_iters=1000)\n",
    "lr.fit(X_train, y_train)\n",
    "\n",
    "# make predictions on test data\n",
    "y_pred = lr.predict(X_test)\n"
   ]
  },
  {
   "cell_type": "code",
   "execution_count": 19,
   "id": "bfe3d5ea",
   "metadata": {},
   "outputs": [
    {
     "ename": "ValueError",
     "evalue": "shapes (10,1) and (8,) not aligned: 1 (dim 1) != 8 (dim 0)",
     "output_type": "error",
     "traceback": [
      "\u001b[0;31m---------------------------------------------------------------------------\u001b[0m",
      "\u001b[0;31mValueError\u001b[0m                                Traceback (most recent call last)",
      "Input \u001b[0;32mIn [19]\u001b[0m, in \u001b[0;36m<cell line: 11>\u001b[0;34m()\u001b[0m\n\u001b[1;32m      9\u001b[0m \u001b[38;5;66;03m# plot best fit line\u001b[39;00m\n\u001b[1;32m     10\u001b[0m x_line \u001b[38;5;241m=\u001b[39m np\u001b[38;5;241m.\u001b[39mlinspace(\u001b[38;5;28mmin\u001b[39m(y_test), \u001b[38;5;28mmax\u001b[39m(y_test), \u001b[38;5;241m10\u001b[39m)\n\u001b[0;32m---> 11\u001b[0m y_line \u001b[38;5;241m=\u001b[39m \u001b[43mlr\u001b[49m\u001b[38;5;241;43m.\u001b[39;49m\u001b[43mpredict\u001b[49m\u001b[43m(\u001b[49m\u001b[43mx_line\u001b[49m\u001b[38;5;241;43m.\u001b[39;49m\u001b[43mreshape\u001b[49m\u001b[43m(\u001b[49m\u001b[38;5;241;43m-\u001b[39;49m\u001b[38;5;241;43m1\u001b[39;49m\u001b[43m,\u001b[49m\u001b[43m \u001b[49m\u001b[38;5;241;43m1\u001b[39;49m\u001b[43m)\u001b[49m\u001b[43m)\u001b[49m\n\u001b[1;32m     12\u001b[0m plt\u001b[38;5;241m.\u001b[39mplot(x_line, y_line, color\u001b[38;5;241m=\u001b[39m\u001b[38;5;124m'\u001b[39m\u001b[38;5;124mred\u001b[39m\u001b[38;5;124m'\u001b[39m)\n\u001b[1;32m     14\u001b[0m \u001b[38;5;66;03m# show plot\u001b[39;00m\n",
      "Input \u001b[0;32mIn [16]\u001b[0m, in \u001b[0;36mLinearRegressionGD.predict\u001b[0;34m(self, X)\u001b[0m\n\u001b[1;32m     27\u001b[0m \u001b[38;5;28;01mdef\u001b[39;00m \u001b[38;5;21mpredict\u001b[39m(\u001b[38;5;28mself\u001b[39m, X):\n\u001b[0;32m---> 28\u001b[0m     \u001b[38;5;28;01mreturn\u001b[39;00m \u001b[43mnp\u001b[49m\u001b[38;5;241;43m.\u001b[39;49m\u001b[43mdot\u001b[49m\u001b[43m(\u001b[49m\u001b[43mX\u001b[49m\u001b[43m,\u001b[49m\u001b[43m \u001b[49m\u001b[38;5;28;43mself\u001b[39;49m\u001b[38;5;241;43m.\u001b[39;49m\u001b[43mweights\u001b[49m\u001b[43m)\u001b[49m \u001b[38;5;241m+\u001b[39m \u001b[38;5;28mself\u001b[39m\u001b[38;5;241m.\u001b[39mbias\n",
      "File \u001b[0;32m<__array_function__ internals>:5\u001b[0m, in \u001b[0;36mdot\u001b[0;34m(*args, **kwargs)\u001b[0m\n",
      "\u001b[0;31mValueError\u001b[0m: shapes (10,1) and (8,) not aligned: 1 (dim 1) != 8 (dim 0)"
     ]
    },
    {
     "data": {
      "image/png": "[encoded data removed]",
      "text/plain": [
       "<Figure size 432x288 with 1 Axes>"
      ]
     },
     "metadata": {
      "needs_background": "light"
     },
     "output_type": "display_data"
    }
   ],
   "source": [
    "import matplotlib.pyplot as plt\n",
    "\n",
    "# plot actual vs. predicted values\n",
    "plt.scatter(y_test, y_pred)\n",
    "plt.xlabel(\"Actual Values\")\n",
    "plt.ylabel(\"Predicted Values\")\n",
    "plt.title(\"Actual vs. Predicted Values\")\n",
    "\n",
    "# plot best fit line\n",
    "x_line = np.linspace(min(y_test), max(y_test), 10)\n",
    "y_line = lr.predict(x_line.reshape(-1, 1))\n",
    "plt.plot(x_line, y_line, color='red')\n",
    "\n",
    "# show plot\n",
    "plt.show()\n"
   ]
  },
  {
   "cell_type": "code",
   "execution_count": 20,
   "id": "d3f042cb",
   "metadata": {},
   "outputs": [
    {
     "name": "stdout",
     "output_type": "stream",
     "text": [
      "Mean Squared Error: 0.5306298472092492\n",
      "R2 Score: 0.5957229466358525\n"
     ]
    }
   ],
   "source": [
    "from sklearn.metrics import mean_squared_error, r2_score\n",
    "\n",
    "# calculate mean squared error\n",
    "mse = mean_squared_error(y_test, y_pred)\n",
    "print(\"Mean Squared Error:\", mse)\n",
    "\n",
    "# calculate R2 score\n",
    "r2 = r2_score(y_test, y_pred)\n",
    "print(\"R2 Score:\", r2)\n"
   ]
  },
  {
   "cell_type": "code",
   "execution_count": null,
   "id": "4095bd1e",
   "metadata": {},
   "outputs": [],
   "source": []
  }
 ],
 "metadata": {
  "kernelspec": {
   "display_name": "Python 3 (ipykernel)",
   "language": "python",
   "name": "python3"
  },
  "language_info": {
   "codemirror_mode": {
    "name": "ipython",
    "version": 3
   },
   "file_extension": ".py",
   "mimetype": "text/x-python",
   "name": "python",
   "nbconvert_exporter": "python",
   "pygments_lexer": "ipython3",
   "version": "3.9.12"
  }
 },
 "nbformat": 4,
 "nbformat_minor": 5
}
