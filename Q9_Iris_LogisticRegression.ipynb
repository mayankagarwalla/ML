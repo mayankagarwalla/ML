{
 "cells": [
  {
   "cell_type": "code",
   "execution_count": 2,
   "id": "b71bbdcd",
   "metadata": {},
   "outputs": [],
   "source": [
    "import numpy as np\n",
    "import pandas as pd\n",
    "import seaborn as sns\n",
    "import matplotlib.pyplot as plt\n",
    "from sklearn.metrics import confusion_matrix \n",
    "from sklearn.datasets import load_iris\n",
    "from sklearn.preprocessing import StandardScaler \n",
    "from sklearn.model_selection import train_test_split"
   ]
  },
  {
   "cell_type": "code",
   "execution_count": 3,
   "id": "00c05cda",
   "metadata": {},
   "outputs": [],
   "source": [
    "class LogisticRegression:\n",
    "    def __init__(self,learning_rate=0.01,num_iterations=1000):\n",
    "        self.learning_rate=learning_rate \n",
    "        self.num_iterations=num_iterations \n",
    "        self.theta=None\n",
    "\n",
    "    def sigmoid(self,z):\n",
    "        return 1/(1+np.exp(-z))\n",
    "\n",
    "    def fit(self,X,y):\n",
    "        self.theta = np.zeros(X.shape[1]) \n",
    "        m=X.shape[0]\n",
    "\n",
    "        for i in range(self.num_iterations):\n",
    "            z=np.dot(X,self.theta) \n",
    "            h=self.sigmoid(z)\n",
    "            \n",
    "            cost = (-1/m)*np.sum(y*np.log(h)+(1-y)*np.log(1-h)) \n",
    "            grad = (1/m)*np.dot(X.T,(h-y))\n",
    "\n",
    "            self.theta -= self.learning_rate*grad\n",
    "            \n",
    "            if i%100==0:\n",
    "                print(\"iteration {}: Cost={}\".format(i,cost))\n",
    "    def predict(self,X): \n",
    "        z=np.dot(X,self.theta) \n",
    "        h=self.sigmoid(z) \n",
    "        y_pred=np.round(h).astype(int) \n",
    "        return y_pred"
   ]
  },
  {
   "cell_type": "code",
   "execution_count": 5,
   "id": "d0950c0d",
   "metadata": {},
   "outputs": [],
   "source": [
    "data = load_iris() \n",
    "X=data.data \n",
    "y=data.target"
   ]
  },
  {
   "cell_type": "code",
   "execution_count": 6,
   "id": "15ca3443",
   "metadata": {},
   "outputs": [],
   "source": [
    "X_train,X_test,y_train,y_test=train_test_split(data.data,data.target,test_size=0.2,random_state=42)"
   ]
  },
  {
   "cell_type": "code",
   "execution_count": 8,
   "id": "615bc076",
   "metadata": {},
   "outputs": [],
   "source": [
    "scaler = StandardScaler()\n",
    "X_train = scaler.fit_transform(X_train) \n",
    "X_test = scaler.transform(X_test)"
   ]
  },
  {
   "cell_type": "code",
   "execution_count": 9,
   "id": "58b530bb",
   "metadata": {},
   "outputs": [
    {
     "name": "stdout",
     "output_type": "stream",
     "text": [
      "iteration 0: Cost=0.6931471805599453\n",
      "iteration 100: Cost=-0.28592081322953067\n",
      "iteration 200: Cost=-0.7717750516170782\n",
      "iteration 300: Cost=-1.1568547886326461\n",
      "iteration 400: Cost=-1.5078154119251628\n",
      "iteration 500: Cost=-1.8434697875951882\n",
      "iteration 600: Cost=-2.170888203543444\n",
      "iteration 700: Cost=-2.4932756898070134\n",
      "iteration 800: Cost=-2.8123041543115193\n",
      "iteration 900: Cost=-3.1289458088636195\n"
     ]
    }
   ],
   "source": [
    "model = LogisticRegression(learning_rate=0.01,num_iterations=1000) \n",
    "model.fit(X_train,y_train)"
   ]
  },
  {
   "cell_type": "code",
   "execution_count": 10,
   "id": "e08d9b51",
   "metadata": {},
   "outputs": [],
   "source": [
    "y_pred = model.predict(X_test)"
   ]
  },
  {
   "cell_type": "code",
   "execution_count": 12,
   "id": "eb615b63",
   "metadata": {},
   "outputs": [
    {
     "data": {
      "text/plain": [
       "[<matplotlib.lines.Line2D at 0x7ff3f04673d0>]"
      ]
     },
     "execution_count": 12,
     "metadata": {},
     "output_type": "execute_result"
    },
    {
     "data": {
      "image/png": "[encoded data removed]",
      "text/plain": [
       "<Figure size 432x288 with 1 Axes>"
      ]
     },
     "metadata": {
      "needs_background": "light"
     },
     "output_type": "display_data"
    }
   ],
   "source": [
    "y_pred\n",
    "plt.plot(y_pred)"
   ]
  },
  {
   "cell_type": "code",
   "execution_count": 13,
   "id": "336be279",
   "metadata": {},
   "outputs": [
    {
     "name": "stdout",
     "output_type": "stream",
     "text": [
      "[[10  0  0]\n",
      " [ 0  9  0]\n",
      " [ 0 11  0]]\n"
     ]
    }
   ],
   "source": [
    "print(confusion_matrix(y_test,y_pred))"
   ]
  },
  {
   "cell_type": "code",
   "execution_count": null,
   "id": "184cce87",
   "metadata": {},
   "outputs": [],
   "source": []
  }
 ],
 "metadata": {
  "kernelspec": {
   "display_name": "Python 3 (ipykernel)",
   "language": "python",
   "name": "python3"
  },
  "language_info": {
   "codemirror_mode": {
    "name": "ipython",
    "version": 3
   },
   "file_extension": ".py",
   "mimetype": "text/x-python",
   "name": "python",
   "nbconvert_exporter": "python",
   "pygments_lexer": "ipython3",
   "version": "3.9.12"
  }
 },
 "nbformat": 4,
 "nbformat_minor": 5
}
