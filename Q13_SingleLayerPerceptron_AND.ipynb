{
 "cells": [
  {
   "cell_type": "code",
   "execution_count": 1,
   "metadata": {
    "id": "QWUq54AyngC9"
   },
   "outputs": [],
   "source": [
    "import numpy as np\n",
    "\n",
    "class Perceptron:\n",
    "    def __init__(self, learning_rate=0.1, num_iterations=100):\n",
    "        self.learning_rate = learning_rate\n",
    "        self.num_iterations = num_iterations\n",
    "        self.weights = None\n",
    "        self.bias = None\n",
    "        \n",
    "    def fit(self, X, y):\n",
    "        num_samples, num_features = X.shape\n",
    "        \n",
    "        # initialize weights and bias to zero\n",
    "        self.weights = np.zeros(num_features)\n",
    "        self.bias = 0\n",
    "        \n",
    "        # training the perceptron for given number of iterations\n",
    "        for _ in range(self.num_iterations):\n",
    "            for i in range(num_samples):\n",
    "                # compute the predicted output\n",
    "                linear_output = np.dot(self.weights, X[i]) + self.bias\n",
    "                y_pred = np.where(linear_output >= 0, 1, 0)\n",
    "                \n",
    "                # update weights and bias based on the error\n",
    "                self.weights += self.learning_rate * (y[i] - y_pred) * X[i]\n",
    "                self.bias += self.learning_rate * (y[i] - y_pred)\n",
    "                \n",
    "    def predict(self, X):\n",
    "        linear_output = np.dot(X, self.weights) + self.bias\n",
    "        y_pred = np.where(linear_output >= 0, 1, 0)\n",
    "        return y_pred\n"
   ]
  },
  {
   "cell_type": "code",
   "execution_count": 3,
   "metadata": {},
   "outputs": [],
   "source": [
    "#use this class to train a perceptron for the AND problem\n",
    "#with 3 variables as follows:"
   ]
  },
  {
   "cell_type": "code",
   "execution_count": 4,
   "metadata": {},
   "outputs": [
    {
     "name": "stdout",
     "output_type": "stream",
     "text": [
      "Predictions: [0 0 0 1]\n"
     ]
    }
   ],
   "source": [
    "X = np.array([[0, 0, 0], [0, 0, 1], [0, 1, 0], [0, 1, 1], [1, 0, 0], [1, 0, 1], [1, 1, 0], [1, 1, 1]])\n",
    "y = np.array([0, 0, 0, 0, 0, 0, 0, 1])\n",
    "\n",
    "perceptron = Perceptron()\n",
    "perceptron.fit(X, y)\n",
    "\n",
    "# test the trained perceptron\n",
    "X_test = np.array([[0, 0, 0], [0, 1, 0], [1, 0, 1], [1, 1, 1]])\n",
    "y_pred = perceptron.predict(X_test)\n",
    "print(\"Predictions:\", y_pred)\n"
   ]
  },
  {
   "cell_type": "code",
   "execution_count": null,
   "metadata": {},
   "outputs": [],
   "source": []
  }
 ],
 "metadata": {
  "colab": {
   "provenance": []
  },
  "kernelspec": {
   "display_name": "Python 3 (ipykernel)",
   "language": "python",
   "name": "python3"
  },
  "language_info": {
   "codemirror_mode": {
    "name": "ipython",
    "version": 3
   },
   "file_extension": ".py",
   "mimetype": "text/x-python",
   "name": "python",
   "nbconvert_exporter": "python",
   "pygments_lexer": "ipython3",
   "version": "3.9.12"
  }
 },
 "nbformat": 4,
 "nbformat_minor": 1
}
