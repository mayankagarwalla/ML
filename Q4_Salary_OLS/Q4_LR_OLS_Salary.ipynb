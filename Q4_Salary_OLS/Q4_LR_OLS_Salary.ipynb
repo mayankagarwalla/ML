{
 "cells": [
  {
   "cell_type": "code",
   "execution_count": 27,
   "id": "1a18f377",
   "metadata": {
    "id": "1a18f377"
   },
   "outputs": [],
   "source": [
    "import numpy as np\n",
    "import pandas as pd\n",
    "import matplotlib.pyplot as plt\n",
    "from sklearn.model_selection import train_test_split"
   ]
  },
  {
   "cell_type": "code",
   "execution_count": 28,
   "id": "45d41cbc",
   "metadata": {
    "colab": {
     "base_uri": "https://localhost:8080/",
     "height": 262
    },
    "id": "45d41cbc",
    "outputId": "759d5ecc-5527-4698-c266-7f2fa850c3c9"
   },
   "outputs": [
    {
     "data": {
      "text/html": [
       "<div>\n",
       "<style scoped>\n",
       "    .dataframe tbody tr th:only-of-type {\n",
       "        vertical-align: middle;\n",
       "    }\n",
       "\n",
       "    .dataframe tbody tr th {\n",
       "        vertical-align: top;\n",
       "    }\n",
       "\n",
       "    .dataframe thead th {\n",
       "        text-align: right;\n",
       "    }\n",
       "</style>\n",
       "<table border=\"1\" class=\"dataframe\">\n",
       "  <thead>\n",
       "    <tr style=\"text-align: right;\">\n",
       "      <th></th>\n",
       "      <th>YearsExperience</th>\n",
       "      <th>Salary</th>\n",
       "    </tr>\n",
       "  </thead>\n",
       "  <tbody>\n",
       "    <tr>\n",
       "      <th>0</th>\n",
       "      <td>1.1</td>\n",
       "      <td>39343.0</td>\n",
       "    </tr>\n",
       "    <tr>\n",
       "      <th>1</th>\n",
       "      <td>1.3</td>\n",
       "      <td>46205.0</td>\n",
       "    </tr>\n",
       "    <tr>\n",
       "      <th>2</th>\n",
       "      <td>1.5</td>\n",
       "      <td>37731.0</td>\n",
       "    </tr>\n",
       "    <tr>\n",
       "      <th>3</th>\n",
       "      <td>2.0</td>\n",
       "      <td>43525.0</td>\n",
       "    </tr>\n",
       "    <tr>\n",
       "      <th>4</th>\n",
       "      <td>2.2</td>\n",
       "      <td>39891.0</td>\n",
       "    </tr>\n",
       "  </tbody>\n",
       "</table>\n",
       "</div>"
      ],
      "text/plain": [
       "   YearsExperience   Salary\n",
       "0              1.1  39343.0\n",
       "1              1.3  46205.0\n",
       "2              1.5  37731.0\n",
       "3              2.0  43525.0\n",
       "4              2.2  39891.0"
      ]
     },
     "execution_count": 28,
     "metadata": {},
     "output_type": "execute_result"
    }
   ],
   "source": [
    "data = pd.read_csv('Salary_data.csv')\n",
    "\n",
    "data.head()"
   ]
  },
  {
   "cell_type": "code",
   "execution_count": 29,
   "id": "899995ab",
   "metadata": {
    "id": "899995ab"
   },
   "outputs": [],
   "source": [
    "X = data['YearsExperience']\n",
    "y = data['Salary']"
   ]
  },
  {
   "cell_type": "code",
   "execution_count": 30,
   "id": "59fe4d93",
   "metadata": {
    "colab": {
     "base_uri": "https://localhost:8080/",
     "height": 472
    },
    "id": "59fe4d93",
    "outputId": "17dfd6b5-11f7-45d8-92af-c8cca4f51281"
   },
   "outputs": [
    {
     "data": {
      "image/png": "[encoded data removed]",
      "text/plain": [
       "<Figure size 432x288 with 1 Axes>"
      ]
     },
     "metadata": {
      "needs_background": "light"
     },
     "output_type": "display_data"
    }
   ],
   "source": [
    "plt.title('Years of Experience VS Salary')\n",
    "plt.scatter(X, y)\n",
    "plt.xlabel('Years of Experience')\n",
    "plt.ylabel('Salary')\n",
    "plt.show()"
   ]
  },
  {
   "cell_type": "markdown",
   "id": "700aa46b",
   "metadata": {
    "id": "700aa46b"
   },
   "source": [
    "**Defining the OLS Model**"
   ]
  },
  {
   "cell_type": "code",
   "execution_count": 45,
   "id": "e169f837",
   "metadata": {
    "id": "e169f837"
   },
   "outputs": [],
   "source": [
    "class OLS:\n",
    "    def __init__(self):\n",
    "        self.bias = None\n",
    "        self.weight = None\n",
    "        \n",
    "    def fit(self, X, y):\n",
    "        # calculating the mean of independent and dependent variable\n",
    "        x_mean = X.mean()\n",
    "        y_mean = y.mean()\n",
    "        \n",
    "        # initialising the value of numerator and denominator for the calculation of weight\n",
    "        num = 0\n",
    "        den = 0\n",
    "        \n",
    "        for i in range(len(X)):\n",
    "            num += (X[i] - x_mean) * (y[i] - y_mean)\n",
    "            den += (X[i] - x_mean) ** 2\n",
    "            \n",
    "        # calculating weight and bias\n",
    "        self.weight = num / den\n",
    "        self.bias = y_mean - (self.weight * x_mean)\n",
    "        \n",
    "    def predict(self, X):\n",
    "        return self.bias + (self.weight * X)"
   ]
  },
  {
   "cell_type": "markdown",
   "id": "07a3e799",
   "metadata": {
    "id": "07a3e799"
   },
   "source": [
    "**Splitting the dataset into training and testing data.**"
   ]
  },
  {
   "cell_type": "code",
   "execution_count": 46,
   "id": "1547697c",
   "metadata": {
    "id": "1547697c"
   },
   "outputs": [],
   "source": [
    "X_train, X_test, y_train, y_test = train_test_split(X, y, test_size=0.25, random_state=0)"
   ]
  },
  {
   "cell_type": "markdown",
   "id": "e85d8eed",
   "metadata": {
    "id": "e85d8eed"
   },
   "source": [
    "**Fitting the model on training set and predicting the values for testing set.**"
   ]
  },
  {
   "cell_type": "code",
   "execution_count": 47,
   "id": "a3c8c91b",
   "metadata": {
    "colab": {
     "base_uri": "https://localhost:8080/"
    },
    "id": "a3c8c91b",
    "outputId": "a5a2cf9e-ee80-4603-a19d-d34ec3d6fb2b",
    "scrolled": true
   },
   "outputs": [
    {
     "name": "stdout",
     "output_type": "stream",
     "text": [
      "Weight: 9379.710491946016\n",
      "Bias: 26986.691316737248\n"
     ]
    }
   ],
   "source": [
    "model = OLS()\n",
    "\n",
    "model.fit(np.array(X_train), np.array(y_train))\n",
    "\n",
    "y_pred = model.predict(X_test)\n",
    "\n",
    "print(f'Weight: {model.weight}')\n",
    "print(f'Bias: {model.bias}')"
   ]
  },
  {
   "cell_type": "markdown",
   "id": "94559bc9",
   "metadata": {
    "id": "94559bc9"
   },
   "source": [
    "**Plotting the line of regression.**"
   ]
  },
  {
   "cell_type": "code",
   "execution_count": 63,
   "id": "2f676906",
   "metadata": {
    "colab": {
     "base_uri": "https://localhost:8080/",
     "height": 472
    },
    "id": "2f676906",
    "outputId": "3a52b2c1-0a1d-4904-a37f-5b89175401de"
   },
   "outputs": [
    {
     "data": {
      "image/png": "[encoded data removed]",
      "text/plain": [
       "<Figure size 432x288 with 1 Axes>"
      ]
     },
     "metadata": {
      "needs_background": "light"
     },
     "output_type": "display_data"
    }
   ],
   "source": [
    "# plot the training and testing datasets along with the best fit line\n",
    "plt.scatter(X_train, y_train, color='blue', label='Training Data')\n",
    "plt.scatter(X_test, y_test, color='green', label='Testing Data')\n",
    "plt.plot(data['YearsExperience'], model.predict(data['YearsExperience']), \n",
    "         color='red', label='Best Fit Line')\n",
    "plt.title('Salary vs. Years of Experience')\n",
    "plt.xlabel('Years of Experience')\n",
    "plt.ylabel('Salary')\n",
    "plt.legend()\n",
    "plt.show()"
   ]
  },
  {
   "cell_type": "markdown",
   "id": "1c756a18",
   "metadata": {
    "id": "1c756a18"
   },
   "source": [
    "#### MSE"
   ]
  },
  {
   "cell_type": "code",
   "execution_count": 56,
   "id": "07285c88",
   "metadata": {},
   "outputs": [],
   "source": [
    "mse = np.mean((y_test - y_pred) ** 2)"
   ]
  },
  {
   "cell_type": "code",
   "execution_count": 57,
   "id": "c885ad50",
   "metadata": {
    "scrolled": true
   },
   "outputs": [
    {
     "data": {
      "text/plain": [
       "22407940.143340684"
      ]
     },
     "execution_count": 57,
     "metadata": {},
     "output_type": "execute_result"
    }
   ],
   "source": [
    "mse"
   ]
  },
  {
   "cell_type": "markdown",
   "id": "c68f2bda",
   "metadata": {},
   "source": [
    "#### R2"
   ]
  },
  {
   "cell_type": "code",
   "execution_count": 58,
   "id": "563504cd",
   "metadata": {},
   "outputs": [],
   "source": [
    "ssr = np.sum((y_pred - np.mean(y_test)) ** 2)\n",
    "sst = np.sum((y_test - np.mean(y_test)) ** 2)\n",
    "r2 = ssr / sst"
   ]
  },
  {
   "cell_type": "code",
   "execution_count": 59,
   "id": "bd4d2986",
   "metadata": {},
   "outputs": [
    {
     "data": {
      "text/plain": [
       "0.8939969361648622"
      ]
     },
     "execution_count": 59,
     "metadata": {},
     "output_type": "execute_result"
    }
   ],
   "source": [
    "r2"
   ]
  },
  {
   "cell_type": "code",
   "execution_count": null,
   "id": "ea25f2c2",
   "metadata": {},
   "outputs": [],
   "source": []
  }
 ],
 "metadata": {
  "colab": {
   "provenance": []
  },
  "kernelspec": {
   "display_name": "Python 3 (ipykernel)",
   "language": "python",
   "name": "python3"
  },
  "language_info": {
   "codemirror_mode": {
    "name": "ipython",
    "version": 3
   },
   "file_extension": ".py",
   "mimetype": "text/x-python",
   "name": "python",
   "nbconvert_exporter": "python",
   "pygments_lexer": "ipython3",
   "version": "3.9.12"
  }
 },
 "nbformat": 4,
 "nbformat_minor": 5
}
